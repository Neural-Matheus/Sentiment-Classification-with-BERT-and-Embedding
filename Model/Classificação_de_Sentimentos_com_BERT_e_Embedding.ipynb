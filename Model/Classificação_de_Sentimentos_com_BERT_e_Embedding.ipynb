{
  "nbformat": 4,
  "nbformat_minor": 0,
  "metadata": {
    "colab": {
      "provenance": []
    },
    "kernelspec": {
      "name": "python3",
      "display_name": "Python 3"
    },
    "accelerator": "GPU"
  },
  "cells": [
    {
      "cell_type": "markdown",
      "metadata": {
        "id": "1tadN4hSCP9p"
      },
      "source": [
        "# Etapa 1: Importação das bibliotecas"
      ]
    },
    {
      "cell_type": "code",
      "metadata": {
        "id": "EUU4TlmoFMZ_"
      },
      "source": [
        "import numpy as np\n",
        "import math\n",
        "import re\n",
        "import pandas as pd\n",
        "from bs4 import BeautifulSoup\n",
        "import random\n",
        "from google.colab import drive"
      ],
      "execution_count": 1,
      "outputs": []
    },
    {
      "cell_type": "code",
      "metadata": {
        "id": "lXj8lk3uGn4P",
        "colab": {
          "base_uri": "https://localhost:8080/"
        },
        "outputId": "3c3e77e7-a8f5-41db-c854-7c984e98d67e"
      },
      "source": [
        "!pip install bert-for-tf2\n",
        "!pip install sentencepiece"
      ],
      "execution_count": 2,
      "outputs": [
        {
          "output_type": "stream",
          "name": "stdout",
          "text": [
            "Collecting bert-for-tf2\n",
            "  Downloading bert-for-tf2-0.14.9.tar.gz (41 kB)\n",
            "\u001b[2K     \u001b[90m━━━━━━━━━━━━━━━━━━━━━━━━━━━━━━━━━━━━━━━━\u001b[0m \u001b[32m41.2/41.2 kB\u001b[0m \u001b[31m502.9 kB/s\u001b[0m eta \u001b[36m0:00:00\u001b[0m\n",
            "\u001b[?25h  Preparing metadata (setup.py) ... \u001b[?25l\u001b[?25hdone\n",
            "Collecting py-params>=0.9.6 (from bert-for-tf2)\n",
            "  Downloading py-params-0.10.2.tar.gz (7.4 kB)\n",
            "  Preparing metadata (setup.py) ... \u001b[?25l\u001b[?25hdone\n",
            "Collecting params-flow>=0.8.0 (from bert-for-tf2)\n",
            "  Downloading params-flow-0.8.2.tar.gz (22 kB)\n",
            "  Preparing metadata (setup.py) ... \u001b[?25l\u001b[?25hdone\n",
            "Requirement already satisfied: numpy in /usr/local/lib/python3.10/dist-packages (from params-flow>=0.8.0->bert-for-tf2) (1.23.5)\n",
            "Requirement already satisfied: tqdm in /usr/local/lib/python3.10/dist-packages (from params-flow>=0.8.0->bert-for-tf2) (4.66.1)\n",
            "Building wheels for collected packages: bert-for-tf2, params-flow, py-params\n",
            "  Building wheel for bert-for-tf2 (setup.py) ... \u001b[?25l\u001b[?25hdone\n",
            "  Created wheel for bert-for-tf2: filename=bert_for_tf2-0.14.9-py3-none-any.whl size=30509 sha256=589b8cc12fb5241b2fa120ab9af963d5e58c1149edf2fe6473af27bcbc7fccc1\n",
            "  Stored in directory: /root/.cache/pip/wheels/d8/da/50/126d7b8416d9a0e6bf876935c2219a71e72a6529c25e150c56\n",
            "  Building wheel for params-flow (setup.py) ... \u001b[?25l\u001b[?25hdone\n",
            "  Created wheel for params-flow: filename=params_flow-0.8.2-py3-none-any.whl size=19454 sha256=985f2ca6a7fda58ace7b5d3a0a85474b031f9149352034c1bd13c5886cdee774\n",
            "  Stored in directory: /root/.cache/pip/wheels/97/a8/d0/f7419404174976a2686bb98b5c30df01cc71445415f32db9e6\n",
            "  Building wheel for py-params (setup.py) ... \u001b[?25l\u001b[?25hdone\n",
            "  Created wheel for py-params: filename=py_params-0.10.2-py3-none-any.whl size=7891 sha256=b6c53255c1ebdaaa59ed21cace2972d93d84ec94d459584a9b61350ae90521ab\n",
            "  Stored in directory: /root/.cache/pip/wheels/69/c8/b3/92666cff9fb312bc3473eaa6b396695b89a7b3e31e90876819\n",
            "Successfully built bert-for-tf2 params-flow py-params\n",
            "Installing collected packages: py-params, params-flow, bert-for-tf2\n",
            "Successfully installed bert-for-tf2-0.14.9 params-flow-0.8.2 py-params-0.10.2\n",
            "Collecting sentencepiece\n",
            "  Downloading sentencepiece-0.1.99-cp310-cp310-manylinux_2_17_x86_64.manylinux2014_x86_64.whl (1.3 MB)\n",
            "\u001b[2K     \u001b[90m━━━━━━━━━━━━━━━━━━━━━━━━━━━━━━━━━━━━━━━━\u001b[0m \u001b[32m1.3/1.3 MB\u001b[0m \u001b[31m15.5 MB/s\u001b[0m eta \u001b[36m0:00:00\u001b[0m\n",
            "\u001b[?25hInstalling collected packages: sentencepiece\n",
            "Successfully installed sentencepiece-0.1.99\n"
          ]
        }
      ]
    },
    {
      "cell_type": "code",
      "metadata": {
        "id": "fOfuPdFHFpfC",
        "colab": {
          "base_uri": "https://localhost:8080/",
          "height": 53
        },
        "outputId": "a69d7b9b-f1aa-4225-889a-2f682554016e"
      },
      "source": [
        "%tensorflow_version 2.x\n",
        "import tensorflow as tf\n",
        "import tensorflow_hub as hub\n",
        "from tensorflow.keras import layers\n",
        "import bert\n",
        "tf.__version__\n",
        "# !pip install tensorflow==2.2.0-rc3"
      ],
      "execution_count": 3,
      "outputs": [
        {
          "output_type": "stream",
          "name": "stdout",
          "text": [
            "Colab only includes TensorFlow 2.x; %tensorflow_version has no effect.\n"
          ]
        },
        {
          "output_type": "execute_result",
          "data": {
            "text/plain": [
              "'2.15.0'"
            ],
            "application/vnd.google.colaboratory.intrinsic+json": {
              "type": "string"
            }
          },
          "metadata": {},
          "execution_count": 3
        }
      ]
    },
    {
      "cell_type": "markdown",
      "metadata": {
        "id": "j6ZbE2lPDIFL"
      },
      "source": [
        "# Etapa 2: Pré-processamento"
      ]
    },
    {
      "cell_type": "markdown",
      "metadata": {
        "id": "T9S77lewDNE1"
      },
      "source": [
        "## Carregamento dos arquivos"
      ]
    },
    {
      "cell_type": "code",
      "metadata": {
        "id": "5hABc0h8GdTe",
        "colab": {
          "base_uri": "https://localhost:8080/"
        },
        "outputId": "43a8b742-7226-427c-89eb-355334b01f5a"
      },
      "source": [
        "drive.mount(\"/content/drive\")"
      ],
      "execution_count": 4,
      "outputs": [
        {
          "output_type": "stream",
          "name": "stdout",
          "text": [
            "Mounted at /content/drive\n"
          ]
        }
      ]
    },
    {
      "cell_type": "code",
      "metadata": {
        "id": "slnILsqwGxTX"
      },
      "source": [
        "cols = [\"sentiment\", \"id\", \"date\", \"query\", \"user\", \"text\"]\n",
        "data = pd.read_csv(\n",
        "    \"/content/drive/MyDrive/Base de dados sentimentos/training.1600000.processed.noemoticon.csv\",\n",
        "    header=None,\n",
        "    names=cols,\n",
        "    engine=\"python\",\n",
        "    encoding=\"latin1\"\n",
        ")"
      ],
      "execution_count": 6,
      "outputs": []
    },
    {
      "cell_type": "code",
      "metadata": {
        "id": "REdK4z4YG9kZ"
      },
      "source": [
        "data.drop([\"id\", \"date\", \"query\", \"user\"],\n",
        "          axis=1,\n",
        "          inplace=True)"
      ],
      "execution_count": 7,
      "outputs": []
    },
    {
      "cell_type": "code",
      "metadata": {
        "id": "_bNsUauVDAx9",
        "colab": {
          "base_uri": "https://localhost:8080/"
        },
        "outputId": "b04ccc35-4a0d-410f-d78d-54ddff7d3724"
      },
      "source": [
        "data.shape"
      ],
      "execution_count": 8,
      "outputs": [
        {
          "output_type": "execute_result",
          "data": {
            "text/plain": [
              "(1600000, 2)"
            ]
          },
          "metadata": {},
          "execution_count": 8
        }
      ]
    },
    {
      "cell_type": "code",
      "metadata": {
        "id": "I6F86zv3C-11",
        "colab": {
          "base_uri": "https://localhost:8080/",
          "height": 206
        },
        "outputId": "09c0f4a6-edf1-412d-d560-dbc2ebe8b887"
      },
      "source": [
        "data.head()"
      ],
      "execution_count": 9,
      "outputs": [
        {
          "output_type": "execute_result",
          "data": {
            "text/plain": [
              "   sentiment                                               text\n",
              "0          0  @switchfoot http://twitpic.com/2y1zl - Awww, t...\n",
              "1          0  is upset that he can't update his Facebook by ...\n",
              "2          0  @Kenichan I dived many times for the ball. Man...\n",
              "3          0    my whole body feels itchy and like its on fire \n",
              "4          0  @nationwideclass no, it's not behaving at all...."
            ],
            "text/html": [
              "\n",
              "  <div id=\"df-a212b8b1-b8bd-4a48-b907-0ef8bfa74a9a\" class=\"colab-df-container\">\n",
              "    <div>\n",
              "<style scoped>\n",
              "    .dataframe tbody tr th:only-of-type {\n",
              "        vertical-align: middle;\n",
              "    }\n",
              "\n",
              "    .dataframe tbody tr th {\n",
              "        vertical-align: top;\n",
              "    }\n",
              "\n",
              "    .dataframe thead th {\n",
              "        text-align: right;\n",
              "    }\n",
              "</style>\n",
              "<table border=\"1\" class=\"dataframe\">\n",
              "  <thead>\n",
              "    <tr style=\"text-align: right;\">\n",
              "      <th></th>\n",
              "      <th>sentiment</th>\n",
              "      <th>text</th>\n",
              "    </tr>\n",
              "  </thead>\n",
              "  <tbody>\n",
              "    <tr>\n",
              "      <th>0</th>\n",
              "      <td>0</td>\n",
              "      <td>@switchfoot http://twitpic.com/2y1zl - Awww, t...</td>\n",
              "    </tr>\n",
              "    <tr>\n",
              "      <th>1</th>\n",
              "      <td>0</td>\n",
              "      <td>is upset that he can't update his Facebook by ...</td>\n",
              "    </tr>\n",
              "    <tr>\n",
              "      <th>2</th>\n",
              "      <td>0</td>\n",
              "      <td>@Kenichan I dived many times for the ball. Man...</td>\n",
              "    </tr>\n",
              "    <tr>\n",
              "      <th>3</th>\n",
              "      <td>0</td>\n",
              "      <td>my whole body feels itchy and like its on fire</td>\n",
              "    </tr>\n",
              "    <tr>\n",
              "      <th>4</th>\n",
              "      <td>0</td>\n",
              "      <td>@nationwideclass no, it's not behaving at all....</td>\n",
              "    </tr>\n",
              "  </tbody>\n",
              "</table>\n",
              "</div>\n",
              "    <div class=\"colab-df-buttons\">\n",
              "\n",
              "  <div class=\"colab-df-container\">\n",
              "    <button class=\"colab-df-convert\" onclick=\"convertToInteractive('df-a212b8b1-b8bd-4a48-b907-0ef8bfa74a9a')\"\n",
              "            title=\"Convert this dataframe to an interactive table.\"\n",
              "            style=\"display:none;\">\n",
              "\n",
              "  <svg xmlns=\"http://www.w3.org/2000/svg\" height=\"24px\" viewBox=\"0 -960 960 960\">\n",
              "    <path d=\"M120-120v-720h720v720H120Zm60-500h600v-160H180v160Zm220 220h160v-160H400v160Zm0 220h160v-160H400v160ZM180-400h160v-160H180v160Zm440 0h160v-160H620v160ZM180-180h160v-160H180v160Zm440 0h160v-160H620v160Z\"/>\n",
              "  </svg>\n",
              "    </button>\n",
              "\n",
              "  <style>\n",
              "    .colab-df-container {\n",
              "      display:flex;\n",
              "      gap: 12px;\n",
              "    }\n",
              "\n",
              "    .colab-df-convert {\n",
              "      background-color: #E8F0FE;\n",
              "      border: none;\n",
              "      border-radius: 50%;\n",
              "      cursor: pointer;\n",
              "      display: none;\n",
              "      fill: #1967D2;\n",
              "      height: 32px;\n",
              "      padding: 0 0 0 0;\n",
              "      width: 32px;\n",
              "    }\n",
              "\n",
              "    .colab-df-convert:hover {\n",
              "      background-color: #E2EBFA;\n",
              "      box-shadow: 0px 1px 2px rgba(60, 64, 67, 0.3), 0px 1px 3px 1px rgba(60, 64, 67, 0.15);\n",
              "      fill: #174EA6;\n",
              "    }\n",
              "\n",
              "    .colab-df-buttons div {\n",
              "      margin-bottom: 4px;\n",
              "    }\n",
              "\n",
              "    [theme=dark] .colab-df-convert {\n",
              "      background-color: #3B4455;\n",
              "      fill: #D2E3FC;\n",
              "    }\n",
              "\n",
              "    [theme=dark] .colab-df-convert:hover {\n",
              "      background-color: #434B5C;\n",
              "      box-shadow: 0px 1px 3px 1px rgba(0, 0, 0, 0.15);\n",
              "      filter: drop-shadow(0px 1px 2px rgba(0, 0, 0, 0.3));\n",
              "      fill: #FFFFFF;\n",
              "    }\n",
              "  </style>\n",
              "\n",
              "    <script>\n",
              "      const buttonEl =\n",
              "        document.querySelector('#df-a212b8b1-b8bd-4a48-b907-0ef8bfa74a9a button.colab-df-convert');\n",
              "      buttonEl.style.display =\n",
              "        google.colab.kernel.accessAllowed ? 'block' : 'none';\n",
              "\n",
              "      async function convertToInteractive(key) {\n",
              "        const element = document.querySelector('#df-a212b8b1-b8bd-4a48-b907-0ef8bfa74a9a');\n",
              "        const dataTable =\n",
              "          await google.colab.kernel.invokeFunction('convertToInteractive',\n",
              "                                                    [key], {});\n",
              "        if (!dataTable) return;\n",
              "\n",
              "        const docLinkHtml = 'Like what you see? Visit the ' +\n",
              "          '<a target=\"_blank\" href=https://colab.research.google.com/notebooks/data_table.ipynb>data table notebook</a>'\n",
              "          + ' to learn more about interactive tables.';\n",
              "        element.innerHTML = '';\n",
              "        dataTable['output_type'] = 'display_data';\n",
              "        await google.colab.output.renderOutput(dataTable, element);\n",
              "        const docLink = document.createElement('div');\n",
              "        docLink.innerHTML = docLinkHtml;\n",
              "        element.appendChild(docLink);\n",
              "      }\n",
              "    </script>\n",
              "  </div>\n",
              "\n",
              "\n",
              "<div id=\"df-f8220ad3-613b-4968-a882-355ba5276b55\">\n",
              "  <button class=\"colab-df-quickchart\" onclick=\"quickchart('df-f8220ad3-613b-4968-a882-355ba5276b55')\"\n",
              "            title=\"Suggest charts\"\n",
              "            style=\"display:none;\">\n",
              "\n",
              "<svg xmlns=\"http://www.w3.org/2000/svg\" height=\"24px\"viewBox=\"0 0 24 24\"\n",
              "     width=\"24px\">\n",
              "    <g>\n",
              "        <path d=\"M19 3H5c-1.1 0-2 .9-2 2v14c0 1.1.9 2 2 2h14c1.1 0 2-.9 2-2V5c0-1.1-.9-2-2-2zM9 17H7v-7h2v7zm4 0h-2V7h2v10zm4 0h-2v-4h2v4z\"/>\n",
              "    </g>\n",
              "</svg>\n",
              "  </button>\n",
              "\n",
              "<style>\n",
              "  .colab-df-quickchart {\n",
              "      --bg-color: #E8F0FE;\n",
              "      --fill-color: #1967D2;\n",
              "      --hover-bg-color: #E2EBFA;\n",
              "      --hover-fill-color: #174EA6;\n",
              "      --disabled-fill-color: #AAA;\n",
              "      --disabled-bg-color: #DDD;\n",
              "  }\n",
              "\n",
              "  [theme=dark] .colab-df-quickchart {\n",
              "      --bg-color: #3B4455;\n",
              "      --fill-color: #D2E3FC;\n",
              "      --hover-bg-color: #434B5C;\n",
              "      --hover-fill-color: #FFFFFF;\n",
              "      --disabled-bg-color: #3B4455;\n",
              "      --disabled-fill-color: #666;\n",
              "  }\n",
              "\n",
              "  .colab-df-quickchart {\n",
              "    background-color: var(--bg-color);\n",
              "    border: none;\n",
              "    border-radius: 50%;\n",
              "    cursor: pointer;\n",
              "    display: none;\n",
              "    fill: var(--fill-color);\n",
              "    height: 32px;\n",
              "    padding: 0;\n",
              "    width: 32px;\n",
              "  }\n",
              "\n",
              "  .colab-df-quickchart:hover {\n",
              "    background-color: var(--hover-bg-color);\n",
              "    box-shadow: 0 1px 2px rgba(60, 64, 67, 0.3), 0 1px 3px 1px rgba(60, 64, 67, 0.15);\n",
              "    fill: var(--button-hover-fill-color);\n",
              "  }\n",
              "\n",
              "  .colab-df-quickchart-complete:disabled,\n",
              "  .colab-df-quickchart-complete:disabled:hover {\n",
              "    background-color: var(--disabled-bg-color);\n",
              "    fill: var(--disabled-fill-color);\n",
              "    box-shadow: none;\n",
              "  }\n",
              "\n",
              "  .colab-df-spinner {\n",
              "    border: 2px solid var(--fill-color);\n",
              "    border-color: transparent;\n",
              "    border-bottom-color: var(--fill-color);\n",
              "    animation:\n",
              "      spin 1s steps(1) infinite;\n",
              "  }\n",
              "\n",
              "  @keyframes spin {\n",
              "    0% {\n",
              "      border-color: transparent;\n",
              "      border-bottom-color: var(--fill-color);\n",
              "      border-left-color: var(--fill-color);\n",
              "    }\n",
              "    20% {\n",
              "      border-color: transparent;\n",
              "      border-left-color: var(--fill-color);\n",
              "      border-top-color: var(--fill-color);\n",
              "    }\n",
              "    30% {\n",
              "      border-color: transparent;\n",
              "      border-left-color: var(--fill-color);\n",
              "      border-top-color: var(--fill-color);\n",
              "      border-right-color: var(--fill-color);\n",
              "    }\n",
              "    40% {\n",
              "      border-color: transparent;\n",
              "      border-right-color: var(--fill-color);\n",
              "      border-top-color: var(--fill-color);\n",
              "    }\n",
              "    60% {\n",
              "      border-color: transparent;\n",
              "      border-right-color: var(--fill-color);\n",
              "    }\n",
              "    80% {\n",
              "      border-color: transparent;\n",
              "      border-right-color: var(--fill-color);\n",
              "      border-bottom-color: var(--fill-color);\n",
              "    }\n",
              "    90% {\n",
              "      border-color: transparent;\n",
              "      border-bottom-color: var(--fill-color);\n",
              "    }\n",
              "  }\n",
              "</style>\n",
              "\n",
              "  <script>\n",
              "    async function quickchart(key) {\n",
              "      const quickchartButtonEl =\n",
              "        document.querySelector('#' + key + ' button');\n",
              "      quickchartButtonEl.disabled = true;  // To prevent multiple clicks.\n",
              "      quickchartButtonEl.classList.add('colab-df-spinner');\n",
              "      try {\n",
              "        const charts = await google.colab.kernel.invokeFunction(\n",
              "            'suggestCharts', [key], {});\n",
              "      } catch (error) {\n",
              "        console.error('Error during call to suggestCharts:', error);\n",
              "      }\n",
              "      quickchartButtonEl.classList.remove('colab-df-spinner');\n",
              "      quickchartButtonEl.classList.add('colab-df-quickchart-complete');\n",
              "    }\n",
              "    (() => {\n",
              "      let quickchartButtonEl =\n",
              "        document.querySelector('#df-f8220ad3-613b-4968-a882-355ba5276b55 button');\n",
              "      quickchartButtonEl.style.display =\n",
              "        google.colab.kernel.accessAllowed ? 'block' : 'none';\n",
              "    })();\n",
              "  </script>\n",
              "</div>\n",
              "\n",
              "    </div>\n",
              "  </div>\n"
            ]
          },
          "metadata": {},
          "execution_count": 9
        }
      ]
    },
    {
      "cell_type": "markdown",
      "metadata": {
        "id": "Lz2g61evDZb4"
      },
      "source": [
        "## Pré-processamento"
      ]
    },
    {
      "cell_type": "markdown",
      "metadata": {
        "id": "LCyy4babDrI8"
      },
      "source": [
        "### Limpeza"
      ]
    },
    {
      "cell_type": "code",
      "metadata": {
        "id": "UEyorQS_HArn"
      },
      "source": [
        "def clean_tweet(tweet):\n",
        "    tweet = BeautifulSoup(tweet, \"lxml\").get_text()\n",
        "    tweet = re.sub(r\"@[A-Za-z0-9]+\", ' ', tweet)\n",
        "    tweet = re.sub(r\"https?://[A-Za-z0-9./]+\", ' ', tweet)\n",
        "    tweet = re.sub(r\"[^a-zA-Z.!?']\", ' ', tweet)\n",
        "    tweet = re.sub(r\" +\", ' ', tweet)\n",
        "    return tweet"
      ],
      "execution_count": 10,
      "outputs": []
    },
    {
      "cell_type": "code",
      "metadata": {
        "id": "3BlbZpy0HHiV",
        "colab": {
          "base_uri": "https://localhost:8080/"
        },
        "outputId": "637fbcac-a0b6-4585-8a01-df0d72b6ffc0"
      },
      "source": [
        "data_clean = [clean_tweet(tweet) for tweet in data.text]"
      ],
      "execution_count": 11,
      "outputs": [
        {
          "output_type": "stream",
          "name": "stderr",
          "text": [
            "<ipython-input-10-6bb4805d14d5>:2: MarkupResemblesLocatorWarning: The input looks more like a filename than markup. You may want to open this file and pass the filehandle into Beautiful Soup.\n",
            "  tweet = BeautifulSoup(tweet, \"lxml\").get_text()\n"
          ]
        }
      ]
    },
    {
      "cell_type": "code",
      "metadata": {
        "id": "H6SOj46BHKEk"
      },
      "source": [
        "data_labels = data.sentiment.values\n",
        "data_labels[data_labels == 4] = 1"
      ],
      "execution_count": 12,
      "outputs": []
    },
    {
      "cell_type": "markdown",
      "metadata": {
        "id": "MJa3YWeJD1gM"
      },
      "source": [
        "### Tokenização"
      ]
    },
    {
      "cell_type": "code",
      "metadata": {
        "id": "0wry-st-HMN0"
      },
      "source": [
        "FullTokenizer = bert.bert_tokenization.FullTokenizer\n",
        "bert_layer = hub.KerasLayer(\"https://tfhub.dev/tensorflow/bert_en_uncased_L-12_H-768_A-12/1\",\n",
        "                            trainable=False)\n",
        "vocab_file = bert_layer.resolved_object.vocab_file.asset_path.numpy()\n",
        "do_lower_case = bert_layer.resolved_object.do_lower_case.numpy()\n",
        "tokenizer = FullTokenizer(vocab_file, do_lower_case)"
      ],
      "execution_count": 13,
      "outputs": []
    },
    {
      "cell_type": "code",
      "metadata": {
        "id": "dAwvS1bNmXCo"
      },
      "source": [
        "def encode_sentence(sent):\n",
        "  return [\"[CLS]\"] + tokenizer.tokenize(sent) + [\"[SEP]\"]"
      ],
      "execution_count": 14,
      "outputs": []
    },
    {
      "cell_type": "code",
      "metadata": {
        "id": "efeM4ecPmySl",
        "colab": {
          "base_uri": "https://localhost:8080/"
        },
        "outputId": "d68cc4c7-6f4f-4d74-fdcf-0649be4c8ec6"
      },
      "source": [
        "encode_sentence(\"My dog likes strawberries.\")"
      ],
      "execution_count": 15,
      "outputs": [
        {
          "output_type": "execute_result",
          "data": {
            "text/plain": [
              "['[CLS]', 'my', 'dog', 'likes', 'straw', '##berries', '.', '[SEP]']"
            ]
          },
          "metadata": {},
          "execution_count": 15
        }
      ]
    },
    {
      "cell_type": "code",
      "metadata": {
        "id": "yIQQiZjlm91C"
      },
      "source": [
        "data_inputs = [encode_sentence(sentence) for sentence in data_clean]"
      ],
      "execution_count": 17,
      "outputs": []
    },
    {
      "cell_type": "code",
      "metadata": {
        "id": "OhDeFvNGoJec",
        "colab": {
          "base_uri": "https://localhost:8080/"
        },
        "outputId": "79528e70-d236-4cc0-c53f-ef9d75d09835"
      },
      "source": [
        "print(data_inputs[0:2])"
      ],
      "execution_count": 18,
      "outputs": [
        {
          "output_type": "stream",
          "name": "stdout",
          "text": [
            "[['[CLS]', 'aw', '##w', '##w', 'that', \"'\", 's', 'a', 'bum', '##mer', '.', 'you', 'should', '##a', 'got', 'david', 'carr', 'of', 'third', 'day', 'to', 'do', 'it', '.', 'd', '[SEP]'], ['[CLS]', 'is', 'upset', 'that', 'he', 'can', \"'\", 't', 'update', 'his', 'facebook', 'by', 'text', '##ing', 'it', '.', '.', '.', 'and', 'might', 'cry', 'as', 'a', 'result', 'school', 'today', 'also', '.', 'blah', '!', '[SEP]']]\n"
          ]
        }
      ]
    },
    {
      "cell_type": "markdown",
      "metadata": {
        "id": "z32MeEwnkCB8"
      },
      "source": [
        "### Criação da base de dados"
      ]
    },
    {
      "cell_type": "code",
      "metadata": {
        "id": "nlcZpE8goS6f"
      },
      "source": [
        "def get_ids(tokens):\n",
        "  return tokenizer.convert_tokens_to_ids(tokens)"
      ],
      "execution_count": 19,
      "outputs": []
    },
    {
      "cell_type": "code",
      "metadata": {
        "id": "eJ2q_UYWogui",
        "colab": {
          "base_uri": "https://localhost:8080/"
        },
        "outputId": "ef30a136-c027-4352-e55b-73be588951a0"
      },
      "source": [
        "get_ids(tokenizer.tokenize(\"My dog likes strawberries.\"))"
      ],
      "execution_count": 20,
      "outputs": [
        {
          "output_type": "execute_result",
          "data": {
            "text/plain": [
              "[2026, 3899, 7777, 13137, 20968, 1012]"
            ]
          },
          "metadata": {},
          "execution_count": 20
        }
      ]
    },
    {
      "cell_type": "code",
      "metadata": {
        "id": "RDFzOY-fpXvQ",
        "colab": {
          "base_uri": "https://localhost:8080/"
        },
        "outputId": "18dc126c-bdf9-4100-8bd3-13361566cfb1"
      },
      "source": [
        "np.char.not_equal(\"[PAD]\", \"[PAD]\")"
      ],
      "execution_count": 21,
      "outputs": [
        {
          "output_type": "execute_result",
          "data": {
            "text/plain": [
              "array(False)"
            ]
          },
          "metadata": {},
          "execution_count": 21
        }
      ]
    },
    {
      "cell_type": "code",
      "metadata": {
        "id": "BKkjSLElouOD"
      },
      "source": [
        "def get_mask(tokens):\n",
        "  return np.char.not_equal(tokens, \"[PAD]\").astype(int)"
      ],
      "execution_count": 22,
      "outputs": []
    },
    {
      "cell_type": "code",
      "metadata": {
        "id": "CNZjB4tGpmie",
        "colab": {
          "base_uri": "https://localhost:8080/"
        },
        "outputId": "cf884569-bbeb-44dd-c72e-9c191a7842c8"
      },
      "source": [
        "get_mask(tokenizer.tokenize(\"My dog likes strawberries.\"))"
      ],
      "execution_count": 23,
      "outputs": [
        {
          "output_type": "execute_result",
          "data": {
            "text/plain": [
              "array([1, 1, 1, 1, 1, 1])"
            ]
          },
          "metadata": {},
          "execution_count": 23
        }
      ]
    },
    {
      "cell_type": "code",
      "metadata": {
        "id": "pE5JsrM4qWFC"
      },
      "source": [
        "def get_segments(tokens):\n",
        "  seg_ids = []\n",
        "  current_seg_id = 0\n",
        "  for tok in tokens:\n",
        "    seg_ids.append(current_seg_id)\n",
        "    if tok == \"[SEP]\":\n",
        "      current_seg_id = 1 - current_seg_id\n",
        "  return seg_ids"
      ],
      "execution_count": 24,
      "outputs": []
    },
    {
      "cell_type": "code",
      "metadata": {
        "id": "h-yS-MVlrBL-",
        "colab": {
          "base_uri": "https://localhost:8080/"
        },
        "outputId": "6837c6b7-0851-444a-9e16-83f8e937ce62"
      },
      "source": [
        "print(data_inputs[0])"
      ],
      "execution_count": 25,
      "outputs": [
        {
          "output_type": "stream",
          "name": "stdout",
          "text": [
            "['[CLS]', 'aw', '##w', '##w', 'that', \"'\", 's', 'a', 'bum', '##mer', '.', 'you', 'should', '##a', 'got', 'david', 'carr', 'of', 'third', 'day', 'to', 'do', 'it', '.', 'd', '[SEP]']\n"
          ]
        }
      ]
    },
    {
      "cell_type": "code",
      "metadata": {
        "id": "fD8l4tu7rFle",
        "colab": {
          "base_uri": "https://localhost:8080/"
        },
        "outputId": "100d9708-7a09-46c6-ee8b-574012c0b962"
      },
      "source": [
        "get_segments(data_inputs[0])"
      ],
      "execution_count": 29,
      "outputs": [
        {
          "output_type": "execute_result",
          "data": {
            "text/plain": [
              "[0, 0, 0, 0, 0, 0, 0, 0, 0, 0, 0, 0, 0, 0, 0, 0, 0, 0, 0, 0, 0, 0, 0, 0, 0, 0]"
            ]
          },
          "metadata": {},
          "execution_count": 29
        }
      ]
    },
    {
      "cell_type": "code",
      "metadata": {
        "id": "CZLiezqersLr",
        "colab": {
          "base_uri": "https://localhost:8080/"
        },
        "outputId": "4effdebd-6a63-487e-82fc-4f50dce37c32"
      },
      "source": [
        "my_sent = [\"[CLS]\"] + tokenizer.tokenize(\"Roses are red.\") + [\"[SEP]\"]\n",
        "my_sent"
      ],
      "execution_count": 30,
      "outputs": [
        {
          "output_type": "execute_result",
          "data": {
            "text/plain": [
              "['[CLS]', 'roses', 'are', 'red', '.', '[SEP]']"
            ]
          },
          "metadata": {},
          "execution_count": 30
        }
      ]
    },
    {
      "cell_type": "code",
      "metadata": {
        "id": "S6ZYXw8Kr44J",
        "colab": {
          "base_uri": "https://localhost:8080/"
        },
        "outputId": "27fcdbb9-0ffb-4c75-dad0-d68d055fdfdf"
      },
      "source": [
        "bert_layer([\n",
        "            tf.expand_dims(tf.cast(get_ids(my_sent), tf.int32), 0),\n",
        "            tf.expand_dims(tf.cast(get_mask(my_sent), tf.int32), 0),\n",
        "            tf.expand_dims(tf.cast(get_segments(my_sent), tf.int32), 0)\n",
        "           ])"
      ],
      "execution_count": 31,
      "outputs": [
        {
          "output_type": "execute_result",
          "data": {
            "text/plain": [
              "[<tf.Tensor: shape=(1, 768), dtype=float32, numpy=\n",
              " array([[-9.27935600e-01, -4.10335541e-01, -9.65755045e-01,\n",
              "          9.07317877e-01,  8.12913954e-01, -1.74174443e-01,\n",
              "          9.11234438e-01,  3.41952205e-01, -8.74521315e-01,\n",
              "         -9.99989271e-01, -7.78410077e-01,  9.69385386e-01,\n",
              "          9.86160517e-01,  6.36963367e-01,  9.48631227e-01,\n",
              "         -7.51193225e-01, -4.58339423e-01, -7.08104610e-01,\n",
              "          4.62098390e-01, -6.57927155e-01,  7.60414600e-01,\n",
              "          9.99994814e-01, -3.96861017e-01,  3.44166100e-01,\n",
              "          6.16488695e-01,  9.94400144e-01, -7.76633859e-01,\n",
              "          9.38316524e-01,  9.59452271e-01,  7.32879341e-01,\n",
              "         -6.93436742e-01,  2.93080539e-01, -9.93785560e-01,\n",
              "         -1.64551765e-01, -9.67019677e-01, -9.95549619e-01,\n",
              "          5.32935560e-01, -6.88060939e-01,  1.34715773e-02,\n",
              "          2.98194103e-02, -9.18356538e-01,  4.20526266e-01,\n",
              "          9.99988973e-01,  2.52676845e-01,  6.06235564e-01,\n",
              "         -3.50750148e-01, -1.00000000e+00,  4.97585416e-01,\n",
              "         -8.95187438e-01,  9.62561011e-01,  9.43730652e-01,\n",
              "          9.03285682e-01,  1.54699698e-01,  5.86143672e-01,\n",
              "          5.80860376e-01, -4.05053198e-01, -2.76639555e-02,\n",
              "          2.98045963e-01, -2.83075988e-01, -6.47424459e-01,\n",
              "         -6.51523709e-01,  5.43847382e-01, -9.56302106e-01,\n",
              "         -9.22750413e-01,  9.61463034e-01,  8.27475488e-01,\n",
              "         -3.50112617e-01, -4.06405807e-01, -8.74318480e-02,\n",
              "         -9.98739824e-02,  8.96688223e-01,  3.00931633e-01,\n",
              "         -1.51129842e-01, -8.52713406e-01,  8.09592545e-01,\n",
              "          4.00989205e-01, -6.61605895e-01,  1.00000000e+00,\n",
              "         -6.16246402e-01, -9.86407042e-01,  8.90943110e-01,\n",
              "          8.11157763e-01,  5.81394613e-01, -6.33873403e-01,\n",
              "          3.78198266e-01, -1.00000000e+00,  6.76351488e-01,\n",
              "         -2.30612651e-01, -9.92552578e-01,  3.85461181e-01,\n",
              "          6.57650888e-01, -2.90105760e-01,  4.46832776e-01,\n",
              "          6.28524125e-01, -5.58409512e-01, -6.65295184e-01,\n",
              "         -4.72272336e-01, -9.28039372e-01, -3.54472637e-01,\n",
              "         -6.19736075e-01,  1.24534965e-01, -3.48905653e-01,\n",
              "         -4.23184276e-01, -4.20834899e-01,  4.56588626e-01,\n",
              "         -6.14471018e-01, -5.15243292e-01,  5.01910090e-01,\n",
              "          4.29147542e-01,  7.59822011e-01,  4.37516600e-01,\n",
              "         -4.33598310e-01,  6.30961955e-01, -9.59743023e-01,\n",
              "          7.73877501e-01, -3.95738035e-01, -9.87354577e-01,\n",
              "         -6.73180103e-01, -9.92996335e-01,  7.77800143e-01,\n",
              "         -5.05856514e-01, -3.19991082e-01,  9.69388723e-01,\n",
              "         -3.51620793e-01,  3.79092127e-01, -2.21649408e-01,\n",
              "         -9.51505721e-01, -1.00000000e+00, -8.80426884e-01,\n",
              "         -8.34713221e-01, -2.77321786e-01, -4.70461398e-01,\n",
              "         -9.83711898e-01, -9.56730247e-01,  6.61120951e-01,\n",
              "          9.56025779e-01,  1.62189096e-01,  9.99961376e-01,\n",
              "         -5.11205971e-01,  9.59530532e-01, -5.58610141e-01,\n",
              "         -8.00221145e-01,  8.48544121e-01, -5.58320463e-01,\n",
              "          8.33738446e-01,  2.63149440e-01, -7.33846843e-01,\n",
              "          3.16189677e-01, -4.83306468e-01,  6.87450349e-01,\n",
              "         -7.94889927e-01, -3.81298304e-01, -8.71706128e-01,\n",
              "         -9.49488103e-01, -3.62460285e-01,  9.51175630e-01,\n",
              "         -7.62520790e-01, -9.61278021e-01, -1.53294161e-01,\n",
              "         -4.02463615e-01, -5.69815576e-01,  8.52475822e-01,\n",
              "          7.99817979e-01,  5.33586442e-01, -6.96546555e-01,\n",
              "          4.84272510e-01,  2.24441141e-01,  7.31195271e-01,\n",
              "         -8.18207979e-01, -3.58149648e-01,  5.32028556e-01,\n",
              "         -4.41676259e-01, -9.25720930e-01, -9.87607181e-01,\n",
              "         -5.07007897e-01,  5.31485438e-01,  9.93827045e-01,\n",
              "          7.66175270e-01,  4.12393183e-01,  8.83270323e-01,\n",
              "         -3.85666579e-01,  8.81850302e-01, -9.67345119e-01,\n",
              "          9.86407518e-01, -3.13535631e-01,  3.57364088e-01,\n",
              "         -6.57590806e-01,  2.70097762e-01, -8.59112918e-01,\n",
              "          2.32004225e-01,  8.62853050e-01, -9.03662503e-01,\n",
              "         -7.94610023e-01, -2.82699227e-01, -4.76583779e-01,\n",
              "         -5.01097262e-01, -8.80422413e-01,  5.45586050e-01,\n",
              "         -4.41977590e-01, -5.77728868e-01, -1.25810131e-01,\n",
              "          9.06032026e-01,  9.80562270e-01,  8.44253361e-01,\n",
              "          5.20119846e-01,  7.80579448e-01, -9.23414290e-01,\n",
              "         -5.87243676e-01,  2.34754667e-01,  2.97746778e-01,\n",
              "          3.54463875e-01,  9.96218681e-01, -8.01237583e-01,\n",
              "         -2.79998481e-01, -9.39948797e-01, -9.83751833e-01,\n",
              "          3.82993110e-02, -9.28821862e-01, -2.94138044e-01,\n",
              "         -7.00600803e-01,  7.67863870e-01, -3.51922661e-01,\n",
              "          6.57684267e-01,  5.54107070e-01, -9.90459323e-01,\n",
              "         -7.80434132e-01,  5.50272882e-01, -5.03933132e-01,\n",
              "          5.56852639e-01, -3.53224486e-01,  7.86350131e-01,\n",
              "          9.69607174e-01, -6.54102087e-01,  7.34232843e-01,\n",
              "          8.81996632e-01, -9.14772213e-01, -7.82534659e-01,\n",
              "          8.52741361e-01, -4.38667715e-01,  8.24172199e-01,\n",
              "         -7.77354538e-01,  9.91627097e-01,  9.48048651e-01,\n",
              "          7.74401784e-01, -9.52811837e-01, -7.52400637e-01,\n",
              "         -8.65391016e-01, -8.10665369e-01, -1.91085652e-01,\n",
              "          6.22547418e-02,  9.39342856e-01,  6.60154998e-01,\n",
              "          5.10393202e-01,  3.03854972e-01, -7.58786142e-01,\n",
              "          9.97947276e-01, -8.39390695e-01, -9.73821759e-01,\n",
              "         -6.96808457e-01, -4.71226245e-01, -9.92139935e-01,\n",
              "          9.27336931e-01,  3.11118186e-01,  6.17148876e-01,\n",
              "         -5.93245447e-01, -7.30744183e-01, -9.74081159e-01,\n",
              "          9.14184034e-01,  2.35107079e-01,  9.90232766e-01,\n",
              "         -4.98075783e-01, -9.59739506e-01, -7.62371361e-01,\n",
              "         -9.30913270e-01, -4.32067029e-02, -2.13116437e-01,\n",
              "         -6.06085479e-01, -2.81609595e-02, -9.69718456e-01,\n",
              "          6.36244297e-01,  6.35316432e-01,  5.37905693e-01,\n",
              "         -8.91036272e-01,  9.99303162e-01,  1.00000000e+00,\n",
              "          9.73003685e-01,  9.01396930e-01,  8.87466550e-01,\n",
              "         -9.99958754e-01, -6.90022111e-01,  9.99998033e-01,\n",
              "         -9.93730485e-01, -1.00000000e+00, -9.37510729e-01,\n",
              "         -8.12253296e-01,  2.70660967e-01, -1.00000000e+00,\n",
              "         -2.87079036e-01, -1.50920302e-01, -9.31140304e-01,\n",
              "          8.18554997e-01,  9.78328943e-01,  9.94965494e-01,\n",
              "         -1.00000000e+00,  8.81453693e-01,  9.30843115e-01,\n",
              "         -7.06026793e-01,  9.76767242e-01, -6.08330131e-01,\n",
              "          9.75543499e-01,  5.93019605e-01,  5.54319024e-01,\n",
              "         -2.44307309e-01,  4.22843724e-01, -9.68066394e-01,\n",
              "         -9.14158344e-01, -7.75702894e-01, -7.79753625e-01,\n",
              "          9.98873472e-01,  2.67525762e-01, -7.70681024e-01,\n",
              "         -9.30970371e-01,  6.98258400e-01, -1.79436088e-01,\n",
              "          1.48645148e-01, -9.69404399e-01, -3.27199757e-01,\n",
              "          7.69222796e-01,  8.38437557e-01,  2.74363279e-01,\n",
              "          4.46673900e-01, -6.88233972e-01,  4.38525349e-01,\n",
              "         -6.96200430e-02,  2.83885449e-01,  6.96684837e-01,\n",
              "         -9.55272675e-01, -5.49684346e-01, -3.89561683e-01,\n",
              "          3.75222951e-01, -7.64762163e-01, -9.54123020e-01,\n",
              "          9.69721198e-01, -4.86066788e-01,  9.72205698e-01,\n",
              "          1.00000000e+00,  7.64813721e-01, -9.13303614e-01,\n",
              "          6.57082736e-01,  4.31852281e-01, -7.01079607e-01,\n",
              "          1.00000000e+00,  8.67337167e-01, -9.83669460e-01,\n",
              "         -5.84471822e-01,  7.79540956e-01, -6.77890062e-01,\n",
              "         -7.74523914e-01,  9.99660969e-01, -3.41093183e-01,\n",
              "         -8.14479947e-01, -6.48069501e-01,  9.86273110e-01,\n",
              "         -9.94089305e-01,  9.97643173e-01, -8.94537747e-01,\n",
              "         -9.79997158e-01,  9.60477769e-01,  9.49231863e-01,\n",
              "         -6.83828175e-01, -7.17898786e-01,  2.86706716e-01,\n",
              "         -7.60040998e-01,  4.78332579e-01, -9.51963365e-01,\n",
              "          8.08321238e-01,  5.27614117e-01, -1.67665824e-01,\n",
              "          9.16268051e-01, -8.87899041e-01, -5.93430936e-01,\n",
              "          3.90308022e-01, -7.76923299e-01, -3.84818792e-01,\n",
              "          9.59038258e-01,  6.78381324e-01, -4.08702850e-01,\n",
              "         -1.99679267e-02, -4.68428612e-01, -7.41143286e-01,\n",
              "         -9.73734379e-01,  6.23254120e-01,  1.00000000e+00,\n",
              "         -4.31855649e-01,  8.94348860e-01, -5.72569668e-01,\n",
              "         -1.89502854e-02,  7.24836513e-02,  6.05421484e-01,\n",
              "          5.64564228e-01, -5.04035056e-01, -8.33653092e-01,\n",
              "          9.20378685e-01, -9.70664740e-01, -9.92627323e-01,\n",
              "          8.63119364e-01,  2.32818440e-01, -3.05338502e-01,\n",
              "          9.99999225e-01,  6.51024520e-01,  3.69558871e-01,\n",
              "          5.16952157e-01,  9.89937425e-01, -5.10574877e-02,\n",
              "          5.19780755e-01,  9.13519561e-01,  9.89344239e-01,\n",
              "         -4.06514227e-01,  6.72227561e-01,  8.66246104e-01,\n",
              "         -9.63320792e-01, -3.93905461e-01, -7.32534230e-01,\n",
              "          6.66501895e-02, -9.50429022e-01,  5.36763445e-02,\n",
              "         -9.64523613e-01,  9.78591144e-01,  9.72525179e-01,\n",
              "          5.02412975e-01,  3.42612803e-01,  8.20067108e-01,\n",
              "          1.00000000e+00, -8.37067723e-01,  5.97411454e-01,\n",
              "         -4.17201668e-01,  8.81285965e-01, -9.99911129e-01,\n",
              "         -8.37778091e-01, -4.66962218e-01, -2.72496670e-01,\n",
              "         -9.03814495e-01, -4.58637834e-01,  3.91833603e-01,\n",
              "         -9.79059398e-01,  9.10196304e-01,  8.29555511e-01,\n",
              "         -9.92893696e-01, -9.93933380e-01, -5.58821678e-01,\n",
              "          7.86012113e-01,  2.98600972e-01, -9.94314551e-01,\n",
              "         -8.16725373e-01, -6.58431947e-01,  9.07821834e-01,\n",
              "         -4.84595984e-01, -9.59578693e-01, -5.24700940e-01,\n",
              "         -4.26523268e-01,  5.39447427e-01, -3.51429671e-01,\n",
              "          6.03987932e-01,  8.84236693e-01,  6.91960275e-01,\n",
              "         -7.73553789e-01, -3.49987060e-01, -1.82106122e-01,\n",
              "         -8.09592545e-01,  9.06841457e-01, -8.09706151e-01,\n",
              "         -9.76247728e-01, -2.70705551e-01,  1.00000000e+00,\n",
              "         -5.54332852e-01,  8.93760324e-01,  7.55229712e-01,\n",
              "          7.80316174e-01, -1.99225590e-01,  3.35151225e-01,\n",
              "          9.55944061e-01,  3.82269830e-01, -7.57196903e-01,\n",
              "         -9.39320028e-01, -6.35581493e-01, -6.07329130e-01,\n",
              "          7.00571895e-01,  7.23613441e-01,  7.29011238e-01,\n",
              "          8.65883529e-01,  7.64537692e-01,  2.08821043e-01,\n",
              "         -6.98528811e-02, -5.64126589e-04,  9.99799311e-01,\n",
              "         -4.44100142e-01, -1.80671781e-01, -4.89859790e-01,\n",
              "         -2.91431487e-01, -4.25409138e-01, -1.98749557e-01,\n",
              "          1.00000000e+00,  3.56602281e-01,  7.75661588e-01,\n",
              "         -9.93823767e-01, -9.28071082e-01, -9.31738496e-01,\n",
              "          1.00000000e+00,  8.50040317e-01, -7.60715842e-01,\n",
              "          7.18036532e-01,  7.75469124e-01, -1.75161988e-01,\n",
              "          8.09469342e-01, -3.36547852e-01, -3.02385300e-01,\n",
              "          4.57467973e-01,  3.08043838e-01,  9.70232189e-01,\n",
              "         -6.18904054e-01, -9.75721121e-01, -5.94948828e-01,\n",
              "          5.63390851e-01, -9.66651082e-01,  9.99981284e-01,\n",
              "         -6.10340595e-01, -3.60575169e-01, -4.96435791e-01,\n",
              "         -4.91436690e-01,  4.47817236e-01,  2.87388954e-02,\n",
              "         -9.83154774e-01, -3.47387433e-01,  3.09110790e-01,\n",
              "          9.66638863e-01,  3.75864148e-01, -6.41106546e-01,\n",
              "         -8.90264750e-01,  8.92269313e-01,  8.32000136e-01,\n",
              "         -9.59132075e-01, -9.57766414e-01,  9.71166492e-01,\n",
              "         -9.84971106e-01,  7.67819464e-01,  1.00000000e+00,\n",
              "          3.83998811e-01,  4.38051641e-01,  3.52292538e-01,\n",
              "         -4.46136504e-01,  4.46569294e-01, -6.90631628e-01,\n",
              "          6.74425602e-01, -9.59155858e-01, -4.53285038e-01,\n",
              "         -2.96152681e-01,  3.57684523e-01, -2.41154566e-01,\n",
              "         -5.88313937e-01,  7.63308346e-01,  3.13667417e-01,\n",
              "         -6.03100538e-01, -6.84795618e-01, -2.60147303e-01,\n",
              "          5.75160444e-01,  9.16844189e-01, -3.56800288e-01,\n",
              "         -2.31557921e-01,  1.15727998e-01, -1.77119106e-01,\n",
              "         -9.47563529e-01, -5.23142159e-01, -6.04617894e-01,\n",
              "         -9.99998510e-01,  5.41667700e-01, -1.00000000e+00,\n",
              "          6.60002291e-01,  3.39037031e-01, -2.57962257e-01,\n",
              "          8.98433983e-01,  3.58503938e-01,  7.80092061e-01,\n",
              "         -8.63456070e-01, -9.04243767e-01,  2.35173687e-01,\n",
              "          8.47542286e-01, -4.83705014e-01, -7.76437402e-01,\n",
              "         -7.77086794e-01,  4.51546967e-01, -1.20644085e-01,\n",
              "          3.45338106e-01, -7.58304775e-01,  7.38663554e-01,\n",
              "         -2.54878461e-01,  1.00000000e+00,  1.56726688e-01,\n",
              "         -6.47172868e-01, -9.80846465e-01,  3.21544886e-01,\n",
              "         -3.49480063e-01,  1.00000000e+00, -8.88086200e-01,\n",
              "         -9.70758796e-01,  4.17614013e-01, -6.59506440e-01,\n",
              "         -8.39061677e-01,  4.56445992e-01,  7.08390102e-02,\n",
              "         -8.59648883e-01, -9.68725801e-01,  9.56583858e-01,\n",
              "          8.95311058e-01, -6.79162502e-01,  7.91996241e-01,\n",
              "         -3.77204925e-01, -5.99682450e-01,  1.89219370e-01,\n",
              "          9.34770465e-01,  9.87944603e-01,  7.07965136e-01,\n",
              "          9.21087801e-01, -1.59541175e-01, -4.83467877e-01,\n",
              "          9.76640403e-01,  2.95252234e-01,  5.32053351e-01,\n",
              "          3.22658211e-01,  1.00000000e+00,  4.97991741e-01,\n",
              "         -9.31000829e-01, -3.24744672e-01, -9.82841671e-01,\n",
              "         -2.67996430e-01, -9.52166140e-01,  4.53916818e-01,\n",
              "          3.94372463e-01,  9.26190138e-01, -3.09752315e-01,\n",
              "          9.69366491e-01, -9.40263808e-01,  1.66798547e-01,\n",
              "         -8.32233250e-01, -7.04411387e-01,  5.49370527e-01,\n",
              "         -9.30373371e-01, -9.88702416e-01, -9.91572261e-01,\n",
              "          7.38682866e-01, -5.26327252e-01, -9.29531902e-02,\n",
              "          2.77956098e-01,  2.54385620e-01,  5.55893183e-01,\n",
              "          5.70780337e-01, -1.00000000e+00,  9.51999605e-01,\n",
              "          5.82980871e-01,  9.13394153e-01,  9.78624403e-01,\n",
              "          7.49032438e-01,  7.39971936e-01,  3.71186435e-01,\n",
              "         -9.89660800e-01, -9.84848619e-01, -5.31397939e-01,\n",
              "         -3.88979733e-01,  8.49413812e-01,  8.17017078e-01,\n",
              "          8.92696857e-01,  6.16892219e-01, -5.75284481e-01,\n",
              "         -2.86467731e-01, -7.60570765e-01, -7.78939545e-01,\n",
              "         -9.94441748e-01,  5.72188258e-01, -7.72195160e-01,\n",
              "         -9.57696259e-01,  9.67420697e-01, -2.17978507e-01,\n",
              "         -1.75552815e-01, -3.26557398e-01, -9.06778038e-01,\n",
              "          9.35597420e-01,  7.66239583e-01,  1.90596238e-01,\n",
              "          1.53928936e-01,  5.40217578e-01,  9.02483523e-01,\n",
              "          9.40388858e-01,  9.88884807e-01, -9.10144031e-01,\n",
              "          7.88359880e-01, -8.31383228e-01,  6.11195445e-01,\n",
              "          8.21669102e-01, -9.41967666e-01,  3.75133276e-01,\n",
              "          5.49405992e-01, -6.15318537e-01,  3.91501874e-01,\n",
              "         -3.66627336e-01, -9.74752307e-01,  8.88878226e-01,\n",
              "         -3.62838209e-01,  6.53205812e-01, -5.35069942e-01,\n",
              "         -2.21282765e-02, -4.40158099e-01, -3.87567341e-01,\n",
              "         -7.89354861e-01, -6.70902789e-01,  6.87369943e-01,\n",
              "          4.34680045e-01,  9.07510936e-01,  9.13954139e-01,\n",
              "         -1.07544877e-01, -8.54991913e-01, -3.22965950e-01,\n",
              "         -7.80992806e-01, -9.35075402e-01,  9.56621110e-01,\n",
              "         -2.46967375e-01, -1.84676319e-01,  7.18141973e-01,\n",
              "          1.66834190e-01,  9.54272568e-01,  5.20279765e-01,\n",
              "         -5.11346579e-01, -3.58430505e-01, -7.76734591e-01,\n",
              "          9.01378989e-01, -6.45810306e-01, -6.68203294e-01,\n",
              "         -6.79575682e-01,  8.30889404e-01,  4.56939995e-01,\n",
              "          9.99998093e-01, -8.61587405e-01, -9.52708602e-01,\n",
              "         -5.74054837e-01, -4.75623518e-01,  5.11585951e-01,\n",
              "         -7.02607393e-01, -1.00000000e+00,  5.05624473e-01,\n",
              "         -6.52046204e-01,  8.13730896e-01, -8.72139335e-01,\n",
              "          8.09320033e-01, -8.18222165e-01, -9.88196373e-01,\n",
              "         -4.00082499e-01,  3.38946044e-01,  7.67014027e-01,\n",
              "         -5.16352892e-01, -8.75940919e-01,  6.15952194e-01,\n",
              "         -7.52709985e-01,  9.89328504e-01,  8.95710647e-01,\n",
              "         -6.14250302e-01,  2.19649613e-01,  7.52754211e-01,\n",
              "         -8.20389926e-01, -8.05691302e-01,  9.38039303e-01]], dtype=float32)>,\n",
              " <tf.Tensor: shape=(1, 6, 768), dtype=float32, numpy=\n",
              " array([[[-0.07947516,  0.00580763, -0.31414026, ..., -0.45097256,\n",
              "           0.29333174,  0.23387624],\n",
              "         [ 0.39316055,  0.5033629 ,  0.2402136 , ..., -0.32635644,\n",
              "           0.3498612 ,  0.20673266],\n",
              "         [ 0.35789225,  0.10767105, -0.04988866, ..., -0.5082276 ,\n",
              "           0.25048825, -0.26268807],\n",
              "         [-0.29892218, -0.24708824,  0.0715147 , ..., -0.33810002,\n",
              "           0.12699515, -0.09681947],\n",
              "         [-0.3681536 , -0.7146522 , -0.21032572, ...,  0.3539514 ,\n",
              "           0.3343861 , -0.62334794],\n",
              "         [ 0.8869228 , -0.16996922, -0.29173762, ...,  0.05816538,\n",
              "          -0.57759947, -0.3207534 ]]], dtype=float32)>]"
            ]
          },
          "metadata": {},
          "execution_count": 31
        }
      ]
    },
    {
      "cell_type": "code",
      "metadata": {
        "id": "Mbw_VIA4uDCX"
      },
      "source": [
        "data_with_len = [[sent, data_labels[i], len(sent)]\n",
        "                 for i, sent in enumerate(data_inputs)]\n",
        "random.shuffle(data_with_len)\n",
        "data_with_len.sort(key = lambda x: x[2])\n",
        "sorted_all = [([get_ids(sent_lab[0]),\n",
        "               get_mask(sent_lab[0]),\n",
        "               get_segments(sent_lab[0])],\n",
        "              sent_lab[1])\n",
        "              for sent_lab in data_with_len if sent_lab[2] > 7]"
      ],
      "execution_count": 32,
      "outputs": []
    },
    {
      "cell_type": "code",
      "source": [
        "sorted_all[0]"
      ],
      "metadata": {
        "colab": {
          "base_uri": "https://localhost:8080/"
        },
        "id": "sgCPkrFNVV-L",
        "outputId": "7b776eca-23cb-4f86-f00e-78c442cfb28e"
      },
      "execution_count": 36,
      "outputs": [
        {
          "output_type": "execute_result",
          "data": {
            "text/plain": [
              "([[101, 4604, 2033, 1037, 4957, 1045, 3335, 102],\n",
              "  array([1, 1, 1, 1, 1, 1, 1, 1]),\n",
              "  [0, 0, 0, 0, 0, 0, 0, 0]],\n",
              " 0)"
            ]
          },
          "metadata": {},
          "execution_count": 36
        }
      ]
    },
    {
      "cell_type": "code",
      "metadata": {
        "id": "ZkMiqmzsfo6a"
      },
      "source": [
        "all_dataset = tf.data.Dataset.from_generator(lambda: sorted_all,\n",
        "                                             output_types=(tf.int32, tf.int32))"
      ],
      "execution_count": 33,
      "outputs": []
    },
    {
      "cell_type": "code",
      "metadata": {
        "id": "gkGWlzeOfos6"
      },
      "source": [
        "BATCH_SIZE = 32\n",
        "all_batched = all_dataset.padded_batch(BATCH_SIZE,\n",
        "                                       padded_shapes=((3, None), ()),\n",
        "                                       padding_values=(0, 0))"
      ],
      "execution_count": 34,
      "outputs": []
    },
    {
      "cell_type": "code",
      "metadata": {
        "id": "5aA7it--hHl4"
      },
      "source": [
        "NB_BATCHES = len(sorted_all) // BATCH_SIZE\n",
        "NB_BATCHES_TEST = NB_BATCHES // 10\n",
        "all_batched.shuffle(NB_BATCHES)\n",
        "test_dataset = all_batched.take(NB_BATCHES_TEST)\n",
        "train_dataset = all_batched.skip(NB_BATCHES_TEST)"
      ],
      "execution_count": 35,
      "outputs": []
    },
    {
      "cell_type": "markdown",
      "metadata": {
        "id": "N2pxAPFxGe8r"
      },
      "source": [
        "# Etapa 3: Construção do modelo"
      ]
    },
    {
      "cell_type": "code",
      "metadata": {
        "id": "L6DD3k3qPLDQ"
      },
      "source": [
        "class DCNNBERTEmbedding(tf.keras.Model):\n",
        "\n",
        "    def __init__(self,\n",
        "                 nb_filters=50,\n",
        "                 FFN_units=512,\n",
        "                 nb_classes=2,\n",
        "                 dropout_rate=0.1,\n",
        "                 name=\"dcnn\"):\n",
        "        super(DCNNBERTEmbedding, self).__init__(name=name)\n",
        "\n",
        "        self.bert_layer = hub.KerasLayer(\"https://tfhub.dev/tensorflow/bert_en_uncased_L-12_H-768_A-12/1\",\n",
        "                                         trainable = False)\n",
        "\n",
        "        self.bigram = layers.Conv1D(filters=nb_filters,\n",
        "                                    kernel_size=2,\n",
        "                                    padding=\"valid\",\n",
        "                                    activation=\"relu\")\n",
        "        self.trigram = layers.Conv1D(filters=nb_filters,\n",
        "                                     kernel_size=3,\n",
        "                                     padding=\"valid\",\n",
        "                                     activation=\"relu\")\n",
        "        self.fourgram = layers.Conv1D(filters=nb_filters,\n",
        "                                      kernel_size=4,\n",
        "                                      padding=\"valid\",\n",
        "                                      activation=\"relu\")\n",
        "        self.pool = layers.GlobalMaxPool1D()\n",
        "        self.dense_1 = layers.Dense(units=FFN_units, activation=\"relu\")\n",
        "        self.dropout = layers.Dropout(rate=dropout_rate)\n",
        "        if nb_classes == 2:\n",
        "            self.last_dense = layers.Dense(units=1,\n",
        "                                           activation=\"sigmoid\")\n",
        "        else:\n",
        "            self.last_dense = layers.Dense(units=nb_classes,\n",
        "                                           activation=\"softmax\")\n",
        "\n",
        "    def embed_with_bert(self, all_tokens):\n",
        "      _, embs = self.bert_layer([all_tokens[:, 0, :],\n",
        "                                 all_tokens[:, 1, :],\n",
        "                                 all_tokens[:, 2, :]])\n",
        "      return embs\n",
        "\n",
        "    def call(self, inputs, training):\n",
        "        x = self.embed_with_bert(inputs)\n",
        "\n",
        "        x_1 = self.bigram(x)\n",
        "        x_1 = self.pool(x_1)\n",
        "        x_2 = self.trigram(x)\n",
        "        x_2 = self.pool(x_2)\n",
        "        x_3 = self.fourgram(x)\n",
        "        x_3 = self.pool(x_3)\n",
        "\n",
        "        merged = tf.concat([x_1, x_2, x_3], axis=-1) # (batch_size, 3 * nb_filters)\n",
        "        merged = self.dense_1(merged)\n",
        "        merged = self.dropout(merged, training)\n",
        "        output = self.last_dense(merged)\n",
        "\n",
        "        return output"
      ],
      "execution_count": 37,
      "outputs": []
    },
    {
      "cell_type": "markdown",
      "metadata": {
        "id": "hsWpzQz2IQvJ"
      },
      "source": [
        "# Etapa 4: Treinamento"
      ]
    },
    {
      "cell_type": "code",
      "metadata": {
        "id": "lhfUFvWEPOIf"
      },
      "source": [
        "NB_FILTERS = 100\n",
        "FFN_UNITS = 256\n",
        "NB_CLASSES = 2\n",
        "DROPOUT_RATE = 0.2\n",
        "BATCH_SIZE = 32\n",
        "NB_EPOCHS = 5"
      ],
      "execution_count": 38,
      "outputs": []
    },
    {
      "cell_type": "code",
      "metadata": {
        "id": "5HPbZ72KPPnX"
      },
      "source": [
        "Dcnn = DCNNBERTEmbedding(nb_filters=NB_FILTERS,\n",
        "                         FFN_units=FFN_UNITS,\n",
        "                         nb_classes=NB_CLASSES,\n",
        "                         dropout_rate=DROPOUT_RATE)"
      ],
      "execution_count": 39,
      "outputs": []
    },
    {
      "cell_type": "code",
      "metadata": {
        "id": "JpHDseF0QLl3"
      },
      "source": [
        "if NB_CLASSES == 2:\n",
        "    Dcnn.compile(loss=\"binary_crossentropy\",\n",
        "                 optimizer=\"adam\",\n",
        "                 metrics=[\"accuracy\"])\n",
        "else:\n",
        "    Dcnn.compile(loss=\"sparse_categorical_crossentropy\",\n",
        "                 optimizer=\"adam\",\n",
        "                 metrics=[\"sparse_categorical_accuracy\"])"
      ],
      "execution_count": 40,
      "outputs": []
    },
    {
      "cell_type": "code",
      "metadata": {
        "id": "K1hdT_JT2Rfi"
      },
      "source": [
        "checkpoint_path = \"/content/drive/My Drive/Cursos - recursos\"\n",
        "\n",
        "ckpt = tf.train.Checkpoint(Dcnn=Dcnn)\n",
        "\n",
        "ckpt_manager = tf.train.CheckpointManager(ckpt, checkpoint_path, max_to_keep=1)\n",
        "\n",
        "if ckpt_manager.latest_checkpoint:\n",
        "    ckpt.restore(ckpt_manager.latest_checkpoint)\n",
        "    print(\"Latest checkpoint restored!!\")"
      ],
      "execution_count": 45,
      "outputs": []
    },
    {
      "cell_type": "code",
      "metadata": {
        "id": "e8LHztku2cjl"
      },
      "source": [
        "class MyCustomCallback(tf.keras.callbacks.Callback):\n",
        "\n",
        "    def on_epoch_end(self, epoch, logs=None):\n",
        "        ckpt_manager.save()\n",
        "        print(\"Checkpoint saved at {}.\".format(checkpoint_path))"
      ],
      "execution_count": 42,
      "outputs": []
    },
    {
      "cell_type": "code",
      "source": [
        "history = Dcnn.fit(train_dataset,\n",
        "                   epochs=NB_EPOCHS,\n",
        "                   callbacks=[MyCustomCallback()])"
      ],
      "metadata": {
        "id": "dW6POHKkb1Go"
      },
      "execution_count": null,
      "outputs": []
    },
    {
      "cell_type": "markdown",
      "metadata": {
        "id": "1CdL-Qb00czr"
      },
      "source": [
        "Epoch 1/5\n",
        "  40623/Unknown - 2999s 74ms/step - loss: 0.3973 - accuracy: 0.8219Checkpoint saved at /content/drive/My Drive/Cursos - recursos.\n",
        "40623/40623 [==============================] - 3001s 74ms/step - loss: 0.3973 - accuracy: 0.8219\n",
        "Epoch 2/5\n",
        "40623/40623 [==============================] - ETA: 0s - loss: 0.3756 - accuracy: 0.8339Checkpoint saved at /content/drive/My Drive/Cursos - recursos.\n",
        "40623/40623 [==============================] - 2987s 74ms/step - loss: 0.3756 - accuracy: 0.8339\n",
        "Epoch 3/5\n",
        "40623/40623 [==============================] - ETA: 0s - loss: 0.3659 - accuracy: 0.8391Checkpoint saved at /content/drive/My Drive/Cursos - recursos.\n",
        "40623/40623 [==============================] - 2979s 73ms/step - loss: 0.3659 - accuracy: 0.8391\n",
        "Epoch 4/5\n",
        "40623/40623 [==============================] - ETA: 0s - loss: 0.3586 - accuracy: 0.8426Checkpoint saved at /content/drive/My Drive/Cursos - recursos.\n",
        "40623/40623 [==============================] - 2969s 73ms/step - loss: 0.3586 - accuracy: 0.8426\n",
        "Epoch 5/5\n",
        "40623/40623 [==============================] - ETA: 0s - loss: 0.3527 - accuracy: 0.8454Checkpoint saved at /content/drive/My Drive/Cursos - recursos.\n",
        "40623/40623 [==============================] - 2960s 73ms/step - loss: 0.3527 - accuracy: 0.8454\n",
        "<tensorflow.python.keras.callbacks.History at 0x7fd363ef4080>"
      ]
    },
    {
      "cell_type": "markdown",
      "metadata": {
        "id": "MAb_ijA5Idmz"
      },
      "source": [
        "# Etapa 5: Avaliação do modelo"
      ]
    },
    {
      "cell_type": "code",
      "metadata": {
        "id": "J40Z7iWIBR4l",
        "colab": {
          "base_uri": "https://localhost:8080/"
        },
        "outputId": "2960452b-d053-49cc-bf7e-c37f9105e757"
      },
      "source": [
        "results = Dcnn.evaluate(test_dataset)\n",
        "print(results)"
      ],
      "execution_count": 46,
      "outputs": [
        {
          "output_type": "stream",
          "name": "stdout",
          "text": [
            "4513/4513 [==============================] - 116s 25ms/step - loss: 0.3769 - accuracy: 0.8384\n",
            "[0.37687262892723083, 0.8383697271347046]\n"
          ]
        }
      ]
    },
    {
      "cell_type": "code",
      "metadata": {
        "id": "GAnePWaPCLVf"
      },
      "source": [
        "def get_prediction(sentence):\n",
        "  tokens = encode_sentence(sentence)\n",
        "\n",
        "  input_ids = get_ids(tokens)\n",
        "  input_mask = get_mask(tokens)\n",
        "  segment_ids = get_segments(tokens)\n",
        "\n",
        "  inputs = tf.stack(\n",
        "      [\n",
        "       tf.cast(input_ids, dtype=tf.int32),\n",
        "       tf.cast(input_mask, dtype=tf.int32),\n",
        "       tf.cast(segment_ids, dtype=tf.int32),\n",
        "      ], axis = 0)\n",
        "  inputs = tf.expand_dims(inputs, 0)\n",
        "\n",
        "  output = Dcnn(inputs, training=False)\n",
        "\n",
        "  sentiment = math.floor(output*2)\n",
        "\n",
        "  if sentiment == 0:\n",
        "    print(\"Output of the model: {}\\nPredicted sentiment: negative\".format(output))\n",
        "  elif sentiment == 1:\n",
        "    print(\"Output of the model: {}\\nPredicted sentiment: positive\".format(output))\n"
      ],
      "execution_count": 47,
      "outputs": []
    },
    {
      "cell_type": "code",
      "metadata": {
        "id": "Jb_7IGY_DaqL",
        "colab": {
          "base_uri": "https://localhost:8080/"
        },
        "outputId": "1cbeec43-4242-41c3-9545-d9ec34a86e17"
      },
      "source": [
        "get_prediction(\"This actor is very bad.\")"
      ],
      "execution_count": 48,
      "outputs": [
        {
          "output_type": "stream",
          "name": "stdout",
          "text": [
            "Output of the model: [[0.06391602]]\n",
            "Predicted sentiment: negative\n"
          ]
        }
      ]
    },
    {
      "cell_type": "code",
      "metadata": {
        "id": "73nVjcmmDymB",
        "colab": {
          "base_uri": "https://localhost:8080/"
        },
        "outputId": "b5218755-4d7b-4de8-941f-9c079f62a52d"
      },
      "source": [
        "get_prediction(\"I like dogs.\")"
      ],
      "execution_count": 49,
      "outputs": [
        {
          "output_type": "stream",
          "name": "stdout",
          "text": [
            "Output of the model: [[0.88880855]]\n",
            "Predicted sentiment: positive\n"
          ]
        }
      ]
    }
  ]
}